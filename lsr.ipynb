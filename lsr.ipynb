{
 "cells": [
  {
   "cell_type": "code",
   "execution_count": 1,
   "metadata": {},
   "outputs": [],
   "source": [
    "from sgnlp.models.lsr import LsrModel, LsrConfig, LsrPreprocessor, LsrPostprocessor\n",
    "from transformers import cached_path\n",
    "from text_input_to_docred_pipeline import TextInputToDocredPipeline "
   ]
  },
  {
   "cell_type": "code",
   "execution_count": 2,
   "metadata": {},
   "outputs": [],
   "source": [
    "# Download files from azure blob storage\n",
    "rel2id_path = cached_path('https://storage.googleapis.com/sgnlp/models/lsr/rel2id.json')\n",
    "word2id_path = cached_path('https://storage.googleapis.com/sgnlp/models/lsr/word2id.json')\n",
    "ner2id_path = cached_path('https://storage.googleapis.com/sgnlp/models/lsr/ner2id.json')\n",
    "rel_info_path = cached_path('https://storage.googleapis.com/sgnlp/models/lsr/rel_info.json')"
   ]
  },
  {
   "cell_type": "code",
   "execution_count": 3,
   "metadata": {},
   "outputs": [],
   "source": [
    "PRED_THRESHOLD = 0.3\n",
    "# text2docred_pipeline = TextInputToDocredPipeline()\n",
    "preprocessor = LsrPreprocessor(rel2id_path=rel2id_path, word2id_path=word2id_path, ner2id_path=ner2id_path)\n",
    "postprocessor = LsrPostprocessor.from_file_paths(rel2id_path=rel2id_path, rel_info_path=rel_info_path,\n",
    "                                                 pred_threshold=PRED_THRESHOLD)\n"
   ]
  },
  {
   "cell_type": "code",
   "execution_count": 4,
   "metadata": {},
   "outputs": [
    {
     "name": "stderr",
     "output_type": "stream",
     "text": [
      "/opt/anaconda3/envs/AISG/lib/python3.8/site-packages/allennlp/data/token_indexers/token_characters_indexer.py:55: UserWarning: You are using the default value (0) of `min_padding_length`, which can cause some subtle bugs (more info see https://github.com/allenai/allennlp/issues/1954). Strongly recommend to set a value, usually the maximum size of the convolutional layer size when using CnnEncoder.\n",
      "  warnings.warn(\n",
      "/opt/anaconda3/envs/AISG/lib/python3.8/site-packages/torch/nn/modules/container.py:435: UserWarning: Setting attributes on ParameterList is not supported.\n",
      "  warnings.warn(\"Setting attributes on ParameterList is not supported.\")\n",
      "Some weights of BertModel were not initialized from the model checkpoint at SpanBERT/spanbert-large-cased and are newly initialized: ['bert.pooler.dense.weight', 'bert.pooler.dense.bias']\n",
      "You should probably TRAIN this model on a down-stream task to be able to use it for predictions and inference.\n"
     ]
    }
   ],
   "source": [
    "text2docred_pipeline = TextInputToDocredPipeline()"
   ]
  },
  {
   "cell_type": "code",
   "execution_count": 12,
   "metadata": {},
   "outputs": [],
   "source": [
    "text_content='Student Experience Survey 2023 - President Message'\n",
    "docred_doc = text2docred_pipeline.preprocess(text_content)"
   ]
  },
  {
   "cell_type": "code",
   "execution_count": 13,
   "metadata": {},
   "outputs": [
    {
     "data": {
      "text/plain": [
       "[]"
      ]
     },
     "execution_count": 13,
     "metadata": {},
     "output_type": "execute_result"
    }
   ],
   "source": [
    "# can exstract valuable information in text but not so accurate\n",
    "docred_doc['vertexSet']"
   ]
  },
  {
   "cell_type": "code",
   "execution_count": 6,
   "metadata": {},
   "outputs": [
    {
     "data": {
      "text/plain": [
       "LsrModel(\n",
       "  (dropout): Dropout(p=0.3, inplace=False)\n",
       "  (relu): ReLU()\n",
       "  (word_emb): Embedding(194784, 100)\n",
       "  (ner_emb): Embedding(13, 20, padding_idx=0)\n",
       "  (coref_embed): Embedding(512, 20, padding_idx=0)\n",
       "  (linear_re): Linear(in_features=240, out_features=120, bias=True)\n",
       "  (rnn_sent): Encoder(\n",
       "    (encoder): GRU(140, 120, bidirectional=True)\n",
       "    (dropout_embedding): Dropout(p=0.2, inplace=False)\n",
       "    (dropout_encoder): Dropout(p=0.3, inplace=False)\n",
       "  )\n",
       "  (dropout_gcn): Dropout(p=0.4, inplace=False)\n",
       "  (reasoner): ModuleList(\n",
       "    (0): DynamicReasoner(\n",
       "      (dropout_gcn): Dropout(p=0.4, inplace=False)\n",
       "      (struc_att): StructInduction(\n",
       "        (tp_linear): Linear(in_features=60, out_features=60, bias=True)\n",
       "        (tc_linear): Linear(in_features=60, out_features=60, bias=True)\n",
       "        (fi_linear): Linear(in_features=60, out_features=1, bias=False)\n",
       "        (bilinear): Bilinear(in1_features=60, in2_features=60, out_features=1, bias=False)\n",
       "        (fzlinear): Linear(in_features=180, out_features=120, bias=True)\n",
       "      )\n",
       "      (gcn): GraphConvLayer(\n",
       "        (gcn_drop): Dropout(p=0.4, inplace=False)\n",
       "        (linear_output): Linear(in_features=120, out_features=120, bias=True)\n",
       "        (weight_list): ModuleList(\n",
       "          (0): Linear(in_features=120, out_features=40, bias=True)\n",
       "          (1): Linear(in_features=160, out_features=40, bias=True)\n",
       "          (2): Linear(in_features=200, out_features=40, bias=True)\n",
       "        )\n",
       "      )\n",
       "    )\n",
       "    (1): DynamicReasoner(\n",
       "      (dropout_gcn): Dropout(p=0.4, inplace=False)\n",
       "      (struc_att): StructInduction(\n",
       "        (tp_linear): Linear(in_features=60, out_features=60, bias=True)\n",
       "        (tc_linear): Linear(in_features=60, out_features=60, bias=True)\n",
       "        (fi_linear): Linear(in_features=60, out_features=1, bias=False)\n",
       "        (bilinear): Bilinear(in1_features=60, in2_features=60, out_features=1, bias=False)\n",
       "        (fzlinear): Linear(in_features=180, out_features=120, bias=True)\n",
       "      )\n",
       "      (gcn): GraphConvLayer(\n",
       "        (gcn_drop): Dropout(p=0.4, inplace=False)\n",
       "        (linear_output): Linear(in_features=120, out_features=120, bias=True)\n",
       "        (weight_list): ModuleList(\n",
       "          (0): Linear(in_features=120, out_features=30, bias=True)\n",
       "          (1): Linear(in_features=150, out_features=30, bias=True)\n",
       "          (2): Linear(in_features=180, out_features=30, bias=True)\n",
       "          (3): Linear(in_features=210, out_features=30, bias=True)\n",
       "        )\n",
       "      )\n",
       "    )\n",
       "  )\n",
       "  (dis_embed): Embedding(20, 20, padding_idx=10)\n",
       "  (self_att): SelfAttention(\n",
       "    (input_linear): Linear(in_features=120, out_features=1, bias=False)\n",
       "  )\n",
       "  (bili): Bilinear(in1_features=140, in2_features=140, out_features=120, bias=True)\n",
       "  (linear_output): Linear(in_features=240, out_features=97, bias=True)\n",
       ")"
      ]
     },
     "execution_count": 6,
     "metadata": {},
     "output_type": "execute_result"
    }
   ],
   "source": [
    "config = LsrConfig.from_pretrained('https://storage.googleapis.com/sgnlp/models/lsr/v2/config.json')\n",
    "model = LsrModel.from_pretrained('https://storage.googleapis.com/sgnlp/models/lsr/v2/pytorch_model.bin', config=config)\n",
    "model.eval()"
   ]
  },
  {
   "cell_type": "code",
   "execution_count": 58,
   "metadata": {},
   "outputs": [
    {
     "ename": "RuntimeError",
     "evalue": "shape '[1, 1, 140]' is invalid for input of size 0",
     "output_type": "error",
     "traceback": [
      "\u001b[0;31m---------------------------------------------------------------------------\u001b[0m",
      "\u001b[0;31mRuntimeError\u001b[0m                              Traceback (most recent call last)",
      "Cell \u001b[0;32mIn[58], line 3\u001b[0m\n\u001b[1;32m      1\u001b[0m \u001b[39m# if len(docred_doc[\"vertexSet\"]) != 0:\u001b[39;00m\n\u001b[1;32m      2\u001b[0m tensor_doc \u001b[39m=\u001b[39m preprocessor([docred_doc])\n\u001b[0;32m----> 3\u001b[0m output \u001b[39m=\u001b[39m model(\u001b[39m*\u001b[39;49m\u001b[39m*\u001b[39;49mtensor_doc)\n\u001b[1;32m      4\u001b[0m result \u001b[39m=\u001b[39m postprocessor(output\u001b[39m.\u001b[39mprediction, [docred_doc])[\u001b[39m0\u001b[39m][\u001b[39m'\u001b[39m\u001b[39mrelations\u001b[39m\u001b[39m'\u001b[39m]\n\u001b[1;32m      5\u001b[0m result\n",
      "File \u001b[0;32m/opt/anaconda3/envs/AISG/lib/python3.8/site-packages/torch/nn/modules/module.py:727\u001b[0m, in \u001b[0;36mModule._call_impl\u001b[0;34m(self, *input, **kwargs)\u001b[0m\n\u001b[1;32m    725\u001b[0m     result \u001b[39m=\u001b[39m \u001b[39mself\u001b[39m\u001b[39m.\u001b[39m_slow_forward(\u001b[39m*\u001b[39m\u001b[39minput\u001b[39m, \u001b[39m*\u001b[39m\u001b[39m*\u001b[39mkwargs)\n\u001b[1;32m    726\u001b[0m \u001b[39melse\u001b[39;00m:\n\u001b[0;32m--> 727\u001b[0m     result \u001b[39m=\u001b[39m \u001b[39mself\u001b[39;49m\u001b[39m.\u001b[39;49mforward(\u001b[39m*\u001b[39;49m\u001b[39minput\u001b[39;49m, \u001b[39m*\u001b[39;49m\u001b[39m*\u001b[39;49mkwargs)\n\u001b[1;32m    728\u001b[0m \u001b[39mfor\u001b[39;00m hook \u001b[39min\u001b[39;00m itertools\u001b[39m.\u001b[39mchain(\n\u001b[1;32m    729\u001b[0m         _global_forward_hooks\u001b[39m.\u001b[39mvalues(),\n\u001b[1;32m    730\u001b[0m         \u001b[39mself\u001b[39m\u001b[39m.\u001b[39m_forward_hooks\u001b[39m.\u001b[39mvalues()):\n\u001b[1;32m    731\u001b[0m     hook_result \u001b[39m=\u001b[39m hook(\u001b[39mself\u001b[39m, \u001b[39minput\u001b[39m, result)\n",
      "File \u001b[0;32m/opt/anaconda3/envs/AISG/lib/python3.8/site-packages/sgnlp/models/lsr/modeling.py:355\u001b[0m, in \u001b[0;36mLsrModel.forward\u001b[0;34m(self, context_idxs, context_pos, context_ner, h_mapping, t_mapping, relation_mask, dis_h_2_t, dis_t_2_h, context_seg, node_position, entity_position, node_sent_num, all_node_num, entity_num_list, sdp_position, sdp_num_list, context_masks, context_starts, relation_multi_label, **kwargs)\u001b[0m\n\u001b[1;32m    353\u001b[0m s_rep \u001b[39m=\u001b[39m torch\u001b[39m.\u001b[39mcat([start_re_output, \u001b[39mself\u001b[39m\u001b[39m.\u001b[39mdis_embed(dis_h_2_t)], dim\u001b[39m=\u001b[39m\u001b[39m-\u001b[39m\u001b[39m1\u001b[39m)\n\u001b[1;32m    354\u001b[0m t_rep \u001b[39m=\u001b[39m torch\u001b[39m.\u001b[39mcat([end_re_output, \u001b[39mself\u001b[39m\u001b[39m.\u001b[39mdis_embed(dis_t_2_h)], dim\u001b[39m=\u001b[39m\u001b[39m-\u001b[39m\u001b[39m1\u001b[39m)\n\u001b[0;32m--> 355\u001b[0m re_rep \u001b[39m=\u001b[39m \u001b[39mself\u001b[39m\u001b[39m.\u001b[39mdropout(\u001b[39mself\u001b[39m\u001b[39m.\u001b[39mrelu(\u001b[39mself\u001b[39;49m\u001b[39m.\u001b[39;49mbili(s_rep, t_rep)))\n\u001b[1;32m    356\u001b[0m re_rep \u001b[39m=\u001b[39m \u001b[39mself\u001b[39m\u001b[39m.\u001b[39mself_att(re_rep, re_rep, relation_mask)\n\u001b[1;32m    357\u001b[0m prediction \u001b[39m=\u001b[39m \u001b[39mself\u001b[39m\u001b[39m.\u001b[39mlinear_output(re_rep)\n",
      "File \u001b[0;32m/opt/anaconda3/envs/AISG/lib/python3.8/site-packages/torch/nn/modules/module.py:727\u001b[0m, in \u001b[0;36mModule._call_impl\u001b[0;34m(self, *input, **kwargs)\u001b[0m\n\u001b[1;32m    725\u001b[0m     result \u001b[39m=\u001b[39m \u001b[39mself\u001b[39m\u001b[39m.\u001b[39m_slow_forward(\u001b[39m*\u001b[39m\u001b[39minput\u001b[39m, \u001b[39m*\u001b[39m\u001b[39m*\u001b[39mkwargs)\n\u001b[1;32m    726\u001b[0m \u001b[39melse\u001b[39;00m:\n\u001b[0;32m--> 727\u001b[0m     result \u001b[39m=\u001b[39m \u001b[39mself\u001b[39;49m\u001b[39m.\u001b[39;49mforward(\u001b[39m*\u001b[39;49m\u001b[39minput\u001b[39;49m, \u001b[39m*\u001b[39;49m\u001b[39m*\u001b[39;49mkwargs)\n\u001b[1;32m    728\u001b[0m \u001b[39mfor\u001b[39;00m hook \u001b[39min\u001b[39;00m itertools\u001b[39m.\u001b[39mchain(\n\u001b[1;32m    729\u001b[0m         _global_forward_hooks\u001b[39m.\u001b[39mvalues(),\n\u001b[1;32m    730\u001b[0m         \u001b[39mself\u001b[39m\u001b[39m.\u001b[39m_forward_hooks\u001b[39m.\u001b[39mvalues()):\n\u001b[1;32m    731\u001b[0m     hook_result \u001b[39m=\u001b[39m hook(\u001b[39mself\u001b[39m, \u001b[39minput\u001b[39m, result)\n",
      "File \u001b[0;32m/opt/anaconda3/envs/AISG/lib/python3.8/site-packages/torch/nn/modules/linear.py:174\u001b[0m, in \u001b[0;36mBilinear.forward\u001b[0;34m(self, input1, input2)\u001b[0m\n\u001b[1;32m    173\u001b[0m \u001b[39mdef\u001b[39;00m \u001b[39mforward\u001b[39m(\u001b[39mself\u001b[39m, input1: Tensor, input2: Tensor) \u001b[39m-\u001b[39m\u001b[39m>\u001b[39m Tensor:\n\u001b[0;32m--> 174\u001b[0m     \u001b[39mreturn\u001b[39;00m F\u001b[39m.\u001b[39;49mbilinear(input1, input2, \u001b[39mself\u001b[39;49m\u001b[39m.\u001b[39;49mweight, \u001b[39mself\u001b[39;49m\u001b[39m.\u001b[39;49mbias)\n",
      "File \u001b[0;32m/opt/anaconda3/envs/AISG/lib/python3.8/site-packages/torch/nn/functional.py:1717\u001b[0m, in \u001b[0;36mbilinear\u001b[0;34m(input1, input2, weight, bias)\u001b[0m\n\u001b[1;32m   1699\u001b[0m \u001b[39mdef\u001b[39;00m \u001b[39mbilinear\u001b[39m(input1, input2, weight, bias\u001b[39m=\u001b[39m\u001b[39mNone\u001b[39;00m):\n\u001b[1;32m   1700\u001b[0m     \u001b[39m# type: (Tensor, Tensor, Tensor, Optional[Tensor]) -> Tensor\u001b[39;00m\n\u001b[1;32m   1701\u001b[0m     \u001b[39mr\u001b[39m\u001b[39m\"\"\"\u001b[39;00m\n\u001b[1;32m   1702\u001b[0m \u001b[39m    Applies a bilinear transformation to the incoming data:\u001b[39;00m\n\u001b[1;32m   1703\u001b[0m \u001b[39m    :math:`y = x_1^T A x_2 + b`\u001b[39;00m\n\u001b[0;32m   (...)\u001b[0m\n\u001b[1;32m   1715\u001b[0m \u001b[39m          and all but the last dimension are the same shape as the input.\u001b[39;00m\n\u001b[1;32m   1716\u001b[0m \u001b[39m    \"\"\"\u001b[39;00m\n\u001b[0;32m-> 1717\u001b[0m     \u001b[39mreturn\u001b[39;00m torch\u001b[39m.\u001b[39;49mbilinear(input1, input2, weight, bias)\n",
      "\u001b[0;31mRuntimeError\u001b[0m: shape '[1, 1, 140]' is invalid for input of size 0"
     ]
    }
   ],
   "source": [
    "# if len(docred_doc[\"vertexSet\"]) != 0:\n",
    "# not work if the relationship is not strong\n",
    "tensor_doc = preprocessor([docred_doc])\n",
    "output = model(**tensor_doc)\n",
    "result = postprocessor(output.prediction, [docred_doc])[0]['relations']\n",
    "result"
   ]
  }
 ],
 "metadata": {
  "kernelspec": {
   "display_name": "AISG",
   "language": "python",
   "name": "python3"
  },
  "language_info": {
   "codemirror_mode": {
    "name": "ipython",
    "version": 3
   },
   "file_extension": ".py",
   "mimetype": "text/x-python",
   "name": "python",
   "nbconvert_exporter": "python",
   "pygments_lexer": "ipython3",
   "version": "3.8.0"
  },
  "orig_nbformat": 4,
  "vscode": {
   "interpreter": {
    "hash": "fd563d668958e08904249d84a1d358f2581d19553c37c9e4c50f52fd62174998"
   }
  }
 },
 "nbformat": 4,
 "nbformat_minor": 2
}
